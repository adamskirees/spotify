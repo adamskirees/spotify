{
 "cells": [
  {
   "cell_type": "code",
   "execution_count": 6,
   "metadata": {},
   "outputs": [
    {
     "name": "stdout",
     "output_type": "stream",
     "text": [
      "84165\n"
     ]
    }
   ],
   "source": [
    "# Python file to analyse Spotify App likes \n",
    "\n",
    "# Initial set up and read in data\n",
    "import pandas as pd\n",
    "import numpy as np\n",
    "import matplotlib.pyplot as plt\n",
    "\n",
    "# Read in the CSV\n",
    "df = pd.read_csv(r\"D:\\My Documents\\DATA SCIENCE\\Projects\\Course Projects\\Udacity\\Spotify Reviews - Datascience Nano\\spotify_reviews.csv\")\n",
    "\n",
    "# Unique Reviewer Id's 84165\n",
    "unique = df['reviewId'].nunique()\n",
    "print(unique)\n",
    "\n",
    "\n"
   ]
  },
  {
   "cell_type": "code",
   "execution_count": 11,
   "metadata": {},
   "outputs": [
    {
     "data": {
      "image/png": "[encoded data removed]",
      "text/plain": [
       "<Figure size 432x288 with 1 Axes>"
      ]
     },
     "metadata": {
      "needs_background": "light"
     },
     "output_type": "display_data"
    }
   ],
   "source": [
    "df.head(10)\n",
    "\n",
    "# Create histogram for scores\n",
    "\n",
    "# Create histogram\n",
    "df.hist(column='score', grid=False)\n",
    "\n",
    "# Add labels and title\n",
    "plt.xlabel('Value')\n",
    "plt.ylabel('Frequency')\n",
    "plt.title('Spotify App Ratings Hist')\n",
    "\n",
    "# Show plot\n",
    "plt.show()"
   ]
  },
  {
   "cell_type": "code",
   "execution_count": null,
   "metadata": {},
   "outputs": [],
   "source": []
  },
  {
   "cell_type": "markdown",
   "metadata": {},
   "source": [
    "1. ARE THE SPOTIFY APP RATINGS IMPROVING OVER TIME ? \n",
    "\n",
    "2. IS THERE A CORRELATION WITH AMOUNT OF WORDS IN RATING AND THE ACTUAL RATING / THUMBS UP ? \n",
    "\n",
    "3. "
   ]
  }
 ],
 "metadata": {
  "kernelspec": {
   "display_name": "Python 3",
   "language": "python",
   "name": "python3"
  },
  "language_info": {
   "codemirror_mode": {
    "name": "ipython",
    "version": 3
   },
   "file_extension": ".py",
   "mimetype": "text/x-python",
   "name": "python",
   "nbconvert_exporter": "python",
   "pygments_lexer": "ipython3",
   "version": "3.9.13"
  }
 },
 "nbformat": 4,
 "nbformat_minor": 2
}
